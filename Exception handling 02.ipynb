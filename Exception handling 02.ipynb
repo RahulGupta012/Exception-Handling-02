{
 "cells": [
  {
   "cell_type": "markdown",
   "metadata": {},
   "source": [
    "                                   ASSIGNMENT: EXCEPTION HANDLING 02"
   ]
  },
  {
   "cell_type": "markdown",
   "metadata": {},
   "source": [
    "Q1. Explain why we have to use the Exception class while creating a Custom Exception.\n",
    "(Here Exception class refers to the base class for all the exceptions.)\n"
   ]
  },
  {
   "cell_type": "markdown",
   "metadata": {},
   "source": [
    "here it is very important to creat a base class for the exception to wrap the whole code so we can execute the exception handling in whole code at once.If we do not make a class then we have to handle the exceptions one by one, which is not so convinient for us and also for the investigator. Because the python works in sequencial way and if any error comes in the way to the kernal while exicuting the code kernal will stop and the exicution of code will also stopped.\n"
   ]
  },
  {
   "cell_type": "markdown",
   "metadata": {},
   "source": [
    "~~~~~~~~~~~~~~~~~~~~~~~~~~~~~~~~~~~~~~~~~~~~~~~~~~~~~~~~~~~~~~~~~~~~~~~~~~~~~~~~~~~~~~~~~~~~~~~~~~~~~~~~~~~~~~~~~~~~~~~~~~~~~~~~~~~~~~"
   ]
  },
  {
   "cell_type": "markdown",
   "metadata": {},
   "source": [
    "Q2. Write a python program to print Python Exception Hierarchy"
   ]
  },
  {
   "cell_type": "markdown",
   "metadata": {},
   "source": [
    "Python Exception hierarchy consists of various built-in exceptions. This hierarchy is used to handle various types of exceptions"
   ]
  },
  {
   "cell_type": "code",
   "execution_count": 3,
   "metadata": {},
   "outputs": [],
   "source": [
    "import logging"
   ]
  },
  {
   "cell_type": "code",
   "execution_count": 4,
   "metadata": {},
   "outputs": [],
   "source": [
    "logging.basicConfig(filename = \"test.log\",level = logging.DEBUG)"
   ]
  },
  {
   "cell_type": "code",
   "execution_count": 5,
   "metadata": {},
   "outputs": [],
   "source": [
    "def Hierarchy(cls, indent=0):\n",
    "    logging.info('.' * indent + cls.__name__)\n",
    "    for subcls in cls.__subclasses__():\n",
    "        Hierarchy(subcls, indent + 1)\n",
    "        Hierarchy(BaseException)"
   ]
  },
  {
   "cell_type": "code",
   "execution_count": 6,
   "metadata": {},
   "outputs": [],
   "source": [
    "\n",
    "logging.shutdown()"
   ]
  },
  {
   "cell_type": "markdown",
   "metadata": {},
   "source": [
    "~~~~~~~~~~~~~~~~~~~~~~~~~~~~~~~~~~~~~~~~~~~~~~~~~~~~~~~~~~~~~~~~~~~~~~~~~~~~~~~~~~~~~~~~~~~~~~~~~~~~~~~~~~~~~~~~~~~~~~~~~~~~~~~~~~~~~~"
   ]
  },
  {
   "cell_type": "markdown",
   "metadata": {},
   "source": [
    "Q3. What errors are defined in the ArithmeticError class? Explain any two with an example."
   ]
  },
  {
   "cell_type": "markdown",
   "metadata": {},
   "source": [
    "The errors which arises due to mathametical opreations and are not executable in python, are called airthmatic errors.There are many airthmetic exception , the two are following.\n",
    "\n",
    "1.Zero division error\n",
    "\n",
    "2.Over flow error"
   ]
  },
  {
   "cell_type": "code",
   "execution_count": 15,
   "metadata": {},
   "outputs": [],
   "source": [
    "import logging"
   ]
  },
  {
   "cell_type": "code",
   "execution_count": 16,
   "metadata": {},
   "outputs": [],
   "source": [
    "logging.basicConfig(filename= \"airthmatic.log\",level= logging.DEBUG)"
   ]
  },
  {
   "cell_type": "code",
   "execution_count": 17,
   "metadata": {},
   "outputs": [],
   "source": [
    "#havision errorndling Zero devison error\n",
    "\n",
    "try:\n",
    "    \n",
    "    121/0\n",
    "except ZeroDivisionError as e:\n",
    "    logging.error(e)"
   ]
  },
  {
   "cell_type": "code",
   "execution_count": 18,
   "metadata": {},
   "outputs": [],
   "source": [
    "#handling over flow error\n",
    "\n",
    "j = 5.0\n",
    "\n",
    "try:\n",
    "    for i in range(1, 1000):\n",
    "        j = j**i\n",
    "\n",
    "except OverflowError as e:\n",
    "  logging.error(e)\n"
   ]
  },
  {
   "cell_type": "markdown",
   "metadata": {},
   "source": [
    "Q4. Why LookupError class is used? Explain with an example KeyError and IndexError."
   ]
  },
  {
   "cell_type": "markdown",
   "metadata": {},
   "source": [
    "The error which is arises when an index or a key is not found for a sequence or dictionary respectively,called lookup error.\n",
    "These are basically two types:\n",
    "\n",
    "1.Index Exception\n",
    "\n",
    "2.Key Exception"
   ]
  },
  {
   "cell_type": "code",
   "execution_count": 21,
   "metadata": {},
   "outputs": [],
   "source": [
    "                                                #Handling Index Exception\n",
    "\n",
    "\n",
    "x = [1, 2, 3, 4]"
   ]
  },
  {
   "cell_type": "code",
   "execution_count": 20,
   "metadata": {},
   "outputs": [
    {
     "name": "stdout",
     "output_type": "stream",
     "text": [
      "list index out of range, <class 'IndexError'>\n"
     ]
    }
   ],
   "source": [
    "try:\n",
    "    print(x[10])\n",
    "except LookupError as e:\n",
    "    print(f\"{e}, {e.__class__}\")"
   ]
  },
  {
   "cell_type": "code",
   "execution_count": 24,
   "metadata": {},
   "outputs": [],
   "source": [
    "                                 # Handling Key Exception\n",
    "student_details = {'name': 'RAHUL GUPTA',\n",
    "                'age': 20,\n",
    "                'course': 'data science'}"
   ]
  },
  {
   "cell_type": "code",
   "execution_count": 25,
   "metadata": {},
   "outputs": [],
   "source": [
    "sllybus = input('sllybus in data science==> ')"
   ]
  },
  {
   "cell_type": "code",
   "execution_count": 26,
   "metadata": {},
   "outputs": [
    {
     "name": "stdout",
     "output_type": "stream",
     "text": [
      "'banana', <class 'KeyError'>\n"
     ]
    }
   ],
   "source": [
    "try:\n",
    "    print(f'{sllybus} is {student_details[sllybus]}')\n",
    "except LookupError as e:\n",
    "    print(f'{e}, {e.__class__}')"
   ]
  },
  {
   "cell_type": "markdown",
   "metadata": {},
   "source": [
    "Q5. Explain ImportError. What is ModuleNotFoundError?"
   ]
  },
  {
   "cell_type": "code",
   "execution_count": 35,
   "metadata": {},
   "outputs": [
    {
     "name": "stdout",
     "output_type": "stream",
     "text": [
      "No module named 'exception'\n"
     ]
    }
   ],
   "source": [
    "\"\"\"when we want to import a module which is not found in the python then such type of exceptions arises.let's see how we handle \n",
    "such type of errors\"\"\"\n",
    "\n",
    "import sys\n",
    "try:\n",
    "    from exception import myexception\n",
    "except Exception as e:\n",
    "    print (e)\n",
    "  "
   ]
  },
  {
   "cell_type": "markdown",
   "metadata": {},
   "source": [
    "Q6. List down some best practices for exception handling in python."
   ]
  },
  {
   "cell_type": "markdown",
   "metadata": {},
   "source": [
    "There are some practices which are advised to keep remembering while handling the exceptions.\n",
    "1. Use always a specific exception. rather then using module 'Exception' we should always prefer to write the specific error so that investigator should always get a clean and flexible code.\n",
    "\n",
    "2. Print always a proper massage is must so that code will understood esily by anyone.\n",
    "\n",
    "3. always try to log your errors.\n",
    "\n",
    "4. always avoid to write a multipe exception handilng .\n",
    "\n",
    "5. Documents all the errors.\n",
    "\n",
    "6. clean up all the resoureses."
   ]
  },
  {
   "cell_type": "markdown",
   "metadata": {},
   "source": []
  }
 ],
 "metadata": {
  "kernelspec": {
   "display_name": "Python 3",
   "language": "python",
   "name": "python3"
  },
  "language_info": {
   "codemirror_mode": {
    "name": "ipython",
    "version": 3
   },
   "file_extension": ".py",
   "mimetype": "text/x-python",
   "name": "python",
   "nbconvert_exporter": "python",
   "pygments_lexer": "ipython3",
   "version": "3.11.4"
  },
  "orig_nbformat": 4
 },
 "nbformat": 4,
 "nbformat_minor": 2
}
